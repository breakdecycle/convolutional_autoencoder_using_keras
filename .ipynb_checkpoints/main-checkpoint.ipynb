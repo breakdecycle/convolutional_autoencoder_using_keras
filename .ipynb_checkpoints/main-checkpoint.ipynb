{
 "cells": [
  {
   "cell_type": "markdown",
   "metadata": {},
   "source": [
    "## Importing relevant libraries"
   ]
  },
  {
   "cell_type": "code",
   "execution_count": 1,
   "metadata": {},
   "outputs": [],
   "source": [
    "import os\n",
    "os.environ[\"CUDA_DEVICE_ORDER\"]=\"PCI_BUS_ID\"\n",
    "os.environ[\"CUDA_VISIBLE_DEVICES\"]=\"1\" #model will be trained on GPU 1"
   ]
  },
  {
   "cell_type": "code",
   "execution_count": 2,
   "metadata": {},
   "outputs": [
    {
     "name": "stderr",
     "output_type": "stream",
     "text": [
      "Using TensorFlow backend.\n"
     ]
    }
   ],
   "source": [
    "import keras\n",
    "from matplotlib import pyplot as plt\n",
    "import numpy as np\n",
    "import gzip\n",
    "%matplotlib inline\n",
    "from keras.layers import Input,Conv2D,MaxPooling2D,UpSampling2D\n",
    "from keras.models import Model\n",
    "from keras.optimizers import RMSprop"
   ]
  },
  {
   "cell_type": "markdown",
   "metadata": {},
   "source": [
    "## Data extraction"
   ]
  },
  {
   "cell_type": "code",
   "execution_count": 3,
   "metadata": {},
   "outputs": [],
   "source": [
    "# Function to open gzip file and convert the images into NumPy array\n",
    "def extract_data(filename, num_images):\n",
    "    with gzip.open(filename) as bytestream:\n",
    "        bytestream.read(16)\n",
    "        buf = bytestream.read(28 * 28 * num_images)\n",
    "        data = np.frombuffer(buf, dtype=np.uint8).astype(np.float32)\n",
    "        data = data.reshape(num_images, 28,28)\n",
    "        return data"
   ]
  },
  {
   "cell_type": "code",
   "execution_count": 4,
   "metadata": {},
   "outputs": [],
   "source": [
    "train_data = extract_data('dataset/train-images-idx3-ubyte.gz', 60000)\n",
    "test_data = extract_data('dataset/t10k-images-idx3-ubyte.gz', 10000)"
   ]
  },
  {
   "cell_type": "code",
   "execution_count": 5,
   "metadata": {},
   "outputs": [],
   "source": [
    "# Extracting labels into numpy array\n",
    "def extract_labels(filename, num_images):\n",
    "    with gzip.open(filename) as bytestream:\n",
    "        bytestream.read(8)\n",
    "        buf = bytestream.read(1 * num_images)\n",
    "        labels = np.frombuffer(buf, dtype=np.uint8).astype(np.int64)\n",
    "        return labels"
   ]
  },
  {
   "cell_type": "code",
   "execution_count": 6,
   "metadata": {},
   "outputs": [],
   "source": [
    "train_labels = extract_labels('dataset/train-labels-idx1-ubyte.gz',60000)\n",
    "test_labels = extract_labels('dataset/t10k-labels-idx1-ubyte.gz',10000)"
   ]
  },
  {
   "cell_type": "markdown",
   "metadata": {},
   "source": [
    "## Data Exploration"
   ]
  },
  {
   "cell_type": "code",
   "execution_count": 7,
   "metadata": {},
   "outputs": [
    {
     "name": "stdout",
     "output_type": "stream",
     "text": [
      "Training set (images) shape: (60000, 28, 28)\n",
      "Test set (images) shape: (10000, 28, 28)\n"
     ]
    }
   ],
   "source": [
    "# Shapes of training set\n",
    "print(\"Training set (images) shape: {shape}\".format(shape=train_data.shape))\n",
    "\n",
    "# Shapes of test set\n",
    "print(\"Test set (images) shape: {shape}\".format(shape=test_data.shape))"
   ]
  },
  {
   "cell_type": "code",
   "execution_count": 8,
   "metadata": {},
   "outputs": [],
   "source": [
    "# Create dictionary of target classes\n",
    "label_dict = {\n",
    " 0: 'A',\n",
    " 1: 'B',\n",
    " 2: 'C',\n",
    " 3: 'D',\n",
    " 4: 'E',\n",
    " 5: 'F',\n",
    " 6: 'G',\n",
    " 7: 'H',\n",
    " 8: 'I',\n",
    " 9: 'J',\n",
    "}"
   ]
  },
  {
   "cell_type": "code",
   "execution_count": 9,
   "metadata": {},
   "outputs": [
    {
     "data": {
      "text/plain": [
       "Text(0.5,1,'(Label: D)')"
      ]
     },
     "execution_count": 9,
     "metadata": {},
     "output_type": "execute_result"
    },
    {
     "data": {
      "image/png": "[encoded data removed]",
      "text/plain": [
       "<Figure size 360x360 with 2 Axes>"
      ]
     },
     "metadata": {},
     "output_type": "display_data"
    }
   ],
   "source": [
    "plt.figure(figsize=[5,5])\n",
    "\n",
    "# Display the first image in training data\n",
    "plt.subplot(121)\n",
    "curr_img = np.reshape(train_data[0], (28,28))\n",
    "curr_lbl = train_labels[0]\n",
    "plt.imshow(curr_img, cmap='gray')\n",
    "plt.title(\"(Label: \" + str(label_dict[curr_lbl]) + \")\")\n",
    "\n",
    "# Display the first image in testing data\n",
    "plt.subplot(122)\n",
    "curr_img = np.reshape(test_data[0], (28,28))\n",
    "curr_lbl = test_labels[0]\n",
    "plt.imshow(curr_img, cmap='gray')\n",
    "plt.title(\"(Label: \" + str(label_dict[curr_lbl]) + \")\")"
   ]
  },
  {
   "cell_type": "markdown",
   "metadata": {},
   "source": [
    "## Data Pre-processing"
   ]
  },
  {
   "cell_type": "code",
   "execution_count": 10,
   "metadata": {},
   "outputs": [
    {
     "data": {
      "text/plain": [
       "((60000, 28, 28, 1), (10000, 28, 28, 1))"
      ]
     },
     "execution_count": 10,
     "metadata": {},
     "output_type": "execute_result"
    }
   ],
   "source": [
    "train_data = train_data.reshape(-1, 28,28, 1)\n",
    "test_data = test_data.reshape(-1, 28,28, 1)\n",
    "train_data.shape, test_data.shape"
   ]
  },
  {
   "cell_type": "code",
   "execution_count": 11,
   "metadata": {},
   "outputs": [
    {
     "data": {
      "text/plain": [
       "(dtype('float32'), dtype('float32'))"
      ]
     },
     "execution_count": 11,
     "metadata": {},
     "output_type": "execute_result"
    }
   ],
   "source": [
    "# Making sure it is in float32 format\n",
    "train_data.dtype, test_data.dtype"
   ]
  },
  {
   "cell_type": "code",
   "execution_count": 12,
   "metadata": {},
   "outputs": [
    {
     "name": "stdout",
     "output_type": "stream",
     "text": [
      "255.0 255.0\n"
     ]
    }
   ],
   "source": [
    "# Rescaling the pixel values to be within [0,1]. (1/2)\n",
    "print(np.max(train_data), np.max(test_data))"
   ]
  },
  {
   "cell_type": "code",
   "execution_count": 13,
   "metadata": {},
   "outputs": [],
   "source": [
    "# Rescaling the pixel values to be within [0,1]. (2/2)\n",
    "train_data = train_data / np.max(train_data)\n",
    "test_data = test_data / np.max(test_data)"
   ]
  },
  {
   "cell_type": "markdown",
   "metadata": {},
   "source": [
    "### Partitioning data into training & validation sets (80% training, 20% validation)\n",
    "\n",
    "This helps prevent overfitting, as we will be validating t hemodel on data it would not have seen in training phase."
   ]
  },
  {
   "cell_type": "code",
   "execution_count": 14,
   "metadata": {},
   "outputs": [],
   "source": [
    "from sklearn.model_selection import train_test_split\n",
    "train_X,valid_X,train_ground,valid_ground = train_test_split(train_data,\n",
    "                                                             train_data, \n",
    "                                                             test_size=0.2, \n",
    "                                                             random_state=13)"
   ]
  },
  {
   "cell_type": "code",
   "execution_count": 15,
   "metadata": {},
   "outputs": [],
   "source": [
    "batch_size = 128\n",
    "epochs = 50\n",
    "inChannel = 1\n",
    "x, y = 28, 28\n",
    "input_img = Input(shape = (x, y, inChannel))"
   ]
  },
  {
   "cell_type": "code",
   "execution_count": 16,
   "metadata": {},
   "outputs": [],
   "source": [
    "def autoencoder(input_img):\n",
    "    #encoder\n",
    "    #input = 28 x 28 x 1 (wide and thin)\n",
    "    conv1 = Conv2D(32, (3, 3), activation='relu', padding='same')(input_img) #28 x 28 x 32\n",
    "    pool1 = MaxPooling2D(pool_size=(2, 2))(conv1) #14 x 14 x 32\n",
    "    conv2 = Conv2D(64, (3, 3), activation='relu', padding='same')(pool1) #14 x 14 x 64\n",
    "    pool2 = MaxPooling2D(pool_size=(2, 2))(conv2) #7 x 7 x 64\n",
    "    conv3 = Conv2D(128, (3, 3), activation='relu', padding='same')(pool2) #7 x 7 x 128 (small and thick)\n",
    "\n",
    "    #decoder\n",
    "    conv4 = Conv2D(128, (3, 3), activation='relu', padding='same')(conv3) #7 x 7 x 128\n",
    "    up1 = UpSampling2D((2,2))(conv4) # 14 x 14 x 128\n",
    "    conv5 = Conv2D(64, (3, 3), activation='relu', padding='same')(up1) # 14 x 14 x 64\n",
    "    up2 = UpSampling2D((2,2))(conv5) # 28 x 28 x 64\n",
    "    decoded = Conv2D(1, (3, 3), activation='sigmoid', padding='same')(up2) # 28 x 28 x 1\n",
    "    return decoded"
   ]
  },
  {
   "cell_type": "code",
   "execution_count": 17,
   "metadata": {},
   "outputs": [],
   "source": [
    "autoencoder = Model(input_img, autoencoder(input_img))\n",
    "autoencoder.compile(loss='mean_squared_error', optimizer = RMSprop())"
   ]
  },
  {
   "cell_type": "code",
   "execution_count": 18,
   "metadata": {},
   "outputs": [
    {
     "name": "stdout",
     "output_type": "stream",
     "text": [
      "_________________________________________________________________\n",
      "Layer (type)                 Output Shape              Param #   \n",
      "=================================================================\n",
      "input_1 (InputLayer)         (None, 28, 28, 1)         0         \n",
      "_________________________________________________________________\n",
      "conv2d_1 (Conv2D)            (None, 28, 28, 32)        320       \n",
      "_________________________________________________________________\n",
      "max_pooling2d_1 (MaxPooling2 (None, 14, 14, 32)        0         \n",
      "_________________________________________________________________\n",
      "conv2d_2 (Conv2D)            (None, 14, 14, 64)        18496     \n",
      "_________________________________________________________________\n",
      "max_pooling2d_2 (MaxPooling2 (None, 7, 7, 64)          0         \n",
      "_________________________________________________________________\n",
      "conv2d_3 (Conv2D)            (None, 7, 7, 128)         73856     \n",
      "_________________________________________________________________\n",
      "conv2d_4 (Conv2D)            (None, 7, 7, 128)         147584    \n",
      "_________________________________________________________________\n",
      "up_sampling2d_1 (UpSampling2 (None, 14, 14, 128)       0         \n",
      "_________________________________________________________________\n",
      "conv2d_5 (Conv2D)            (None, 14, 14, 64)        73792     \n",
      "_________________________________________________________________\n",
      "up_sampling2d_2 (UpSampling2 (None, 28, 28, 64)        0         \n",
      "_________________________________________________________________\n",
      "conv2d_6 (Conv2D)            (None, 28, 28, 1)         577       \n",
      "=================================================================\n",
      "Total params: 314,625\n",
      "Trainable params: 314,625\n",
      "Non-trainable params: 0\n",
      "_________________________________________________________________\n"
     ]
    }
   ],
   "source": [
    "autoencoder.summary()"
   ]
  },
  {
   "cell_type": "markdown",
   "metadata": {},
   "source": [
    "## Train the model (Finally!)"
   ]
  },
  {
   "cell_type": "code",
   "execution_count": 19,
   "metadata": {},
   "outputs": [
    {
     "name": "stdout",
     "output_type": "stream",
     "text": [
      "Train on 48000 samples, validate on 12000 samples\n",
      "Epoch 1/50\n",
      "48000/48000 [==============================] - 196s 4ms/step - loss: 0.0352 - val_loss: 0.0142\n",
      "Epoch 2/50\n",
      "48000/48000 [==============================] - 197s 4ms/step - loss: 0.0101 - val_loss: 0.0071\n",
      "Epoch 3/50\n",
      "48000/48000 [==============================] - 195s 4ms/step - loss: 0.0072 - val_loss: 0.0064\n",
      "Epoch 4/50\n",
      "48000/48000 [==============================] - 190s 4ms/step - loss: 0.0058 - val_loss: 0.0049\n",
      "Epoch 5/50\n",
      "48000/48000 [==============================] - 193s 4ms/step - loss: 0.0050 - val_loss: 0.0047\n",
      "Epoch 6/50\n",
      "48000/48000 [==============================] - 192s 4ms/step - loss: 0.0043 - val_loss: 0.0042\n",
      "Epoch 7/50\n",
      "48000/48000 [==============================] - 198s 4ms/step - loss: 0.0039 - val_loss: 0.0043\n",
      "Epoch 8/50\n",
      "48000/48000 [==============================] - 208s 4ms/step - loss: 0.0036 - val_loss: 0.0041\n",
      "Epoch 9/50\n",
      "48000/48000 [==============================] - 212s 4ms/step - loss: 0.0033 - val_loss: 0.0039\n",
      "Epoch 10/50\n",
      "48000/48000 [==============================] - 200s 4ms/step - loss: 0.0031 - val_loss: 0.0031\n",
      "Epoch 11/50\n",
      "48000/48000 [==============================] - 194s 4ms/step - loss: 0.0029 - val_loss: 0.0031\n",
      "Epoch 12/50\n",
      "48000/48000 [==============================] - 190s 4ms/step - loss: 0.0028 - val_loss: 0.0025\n",
      "Epoch 13/50\n",
      "48000/48000 [==============================] - 189s 4ms/step - loss: 0.0027 - val_loss: 0.0025\n",
      "Epoch 14/50\n",
      "48000/48000 [==============================] - 189s 4ms/step - loss: 0.0026 - val_loss: 0.0022\n",
      "Epoch 15/50\n",
      "48000/48000 [==============================] - 189s 4ms/step - loss: 0.0025 - val_loss: 0.0034\n",
      "Epoch 16/50\n",
      "48000/48000 [==============================] - 190s 4ms/step - loss: 0.0024 - val_loss: 0.0023\n",
      "Epoch 17/50\n",
      "48000/48000 [==============================] - 190s 4ms/step - loss: 0.0023 - val_loss: 0.0021\n",
      "Epoch 18/50\n",
      "48000/48000 [==============================] - 190s 4ms/step - loss: 0.0023 - val_loss: 0.0021\n",
      "Epoch 19/50\n",
      "48000/48000 [==============================] - 190s 4ms/step - loss: 0.0022 - val_loss: 0.0022\n",
      "Epoch 20/50\n",
      "48000/48000 [==============================] - 190s 4ms/step - loss: 0.0022 - val_loss: 0.0022\n",
      "Epoch 21/50\n",
      "48000/48000 [==============================] - 190s 4ms/step - loss: 0.0021 - val_loss: 0.0020\n",
      "Epoch 22/50\n",
      "48000/48000 [==============================] - 190s 4ms/step - loss: 0.0021 - val_loss: 0.0024\n",
      "Epoch 23/50\n",
      "48000/48000 [==============================] - 190s 4ms/step - loss: 0.0020 - val_loss: 0.0021\n",
      "Epoch 24/50\n",
      "48000/48000 [==============================] - 190s 4ms/step - loss: 0.0020 - val_loss: 0.0021\n",
      "Epoch 25/50\n",
      "48000/48000 [==============================] - 190s 4ms/step - loss: 0.0020 - val_loss: 0.0020\n",
      "Epoch 26/50\n",
      "48000/48000 [==============================] - 190s 4ms/step - loss: 0.0019 - val_loss: 0.0019\n",
      "Epoch 27/50\n",
      "48000/48000 [==============================] - 192s 4ms/step - loss: 0.0019 - val_loss: 0.0023\n",
      "Epoch 28/50\n",
      "48000/48000 [==============================] - 192s 4ms/step - loss: 0.0019 - val_loss: 0.0018\n",
      "Epoch 29/50\n",
      "48000/48000 [==============================] - 190s 4ms/step - loss: 0.0019 - val_loss: 0.0019\n",
      "Epoch 30/50\n",
      "48000/48000 [==============================] - 193s 4ms/step - loss: 0.0018 - val_loss: 0.0019\n",
      "Epoch 31/50\n",
      "48000/48000 [==============================] - 192s 4ms/step - loss: 0.0018 - val_loss: 0.0017\n",
      "Epoch 32/50\n",
      "48000/48000 [==============================] - 194s 4ms/step - loss: 0.0018 - val_loss: 0.0021\n",
      "Epoch 33/50\n",
      "48000/48000 [==============================] - 191s 4ms/step - loss: 0.0018 - val_loss: 0.0017\n",
      "Epoch 34/50\n",
      "48000/48000 [==============================] - 192s 4ms/step - loss: 0.0017 - val_loss: 0.0017\n",
      "Epoch 35/50\n",
      "48000/48000 [==============================] - 192s 4ms/step - loss: 0.0017 - val_loss: 0.0016\n",
      "Epoch 36/50\n",
      "48000/48000 [==============================] - 192s 4ms/step - loss: 0.0017 - val_loss: 0.0016\n",
      "Epoch 37/50\n",
      "48000/48000 [==============================] - 192s 4ms/step - loss: 0.0017 - val_loss: 0.0018\n",
      "Epoch 38/50\n",
      "48000/48000 [==============================] - 191s 4ms/step - loss: 0.0017 - val_loss: 0.0018\n",
      "Epoch 39/50\n",
      "48000/48000 [==============================] - 191s 4ms/step - loss: 0.0017 - val_loss: 0.0018\n",
      "Epoch 40/50\n",
      "48000/48000 [==============================] - 192s 4ms/step - loss: 0.0017 - val_loss: 0.0018\n",
      "Epoch 41/50\n",
      "48000/48000 [==============================] - 191s 4ms/step - loss: 0.0016 - val_loss: 0.0017\n",
      "Epoch 42/50\n",
      "48000/48000 [==============================] - 191s 4ms/step - loss: 0.0016 - val_loss: 0.0015\n",
      "Epoch 43/50\n",
      "48000/48000 [==============================] - 422s 9ms/step - loss: 0.0016 - val_loss: 0.0016\n",
      "Epoch 44/50\n",
      "48000/48000 [==============================] - 196s 4ms/step - loss: 0.0016 - val_loss: 0.0015\n",
      "Epoch 45/50\n",
      "48000/48000 [==============================] - 199s 4ms/step - loss: 0.0016 - val_loss: 0.0016\n",
      "Epoch 46/50\n",
      "48000/48000 [==============================] - 193s 4ms/step - loss: 0.0016 - val_loss: 0.0022\n",
      "Epoch 47/50\n",
      "48000/48000 [==============================] - 193s 4ms/step - loss: 0.0016 - val_loss: 0.0017\n",
      "Epoch 48/50\n",
      "48000/48000 [==============================] - 195s 4ms/step - loss: 0.0016 - val_loss: 0.0015\n",
      "Epoch 49/50\n",
      "48000/48000 [==============================] - 195s 4ms/step - loss: 0.0015 - val_loss: 0.0019\n",
      "Epoch 50/50\n",
      "48000/48000 [==============================] - 200s 4ms/step - loss: 0.0015 - val_loss: 0.0015\n"
     ]
    }
   ],
   "source": [
    "autoencoder_train = autoencoder.fit(train_X, train_ground, batch_size=batch_size,epochs=epochs,verbose=1,validation_data=(valid_X, valid_ground))"
   ]
  },
  {
   "cell_type": "markdown",
   "metadata": {},
   "source": [
    "## Training vs Validation Loss Plot"
   ]
  },
  {
   "cell_type": "code",
   "execution_count": 25,
   "metadata": {},
   "outputs": [
    {
     "data": {
      "image/png": "[encoded data removed]",
      "text/plain": [
       "<Figure size 432x288 with 1 Axes>"
      ]
     },
     "metadata": {},
     "output_type": "display_data"
    }
   ],
   "source": [
    "loss = autoencoder_train.history['loss']\n",
    "val_loss = autoencoder_train.history['val_loss']\n",
    "epochs = range(epochs)\n",
    "plt.figure()\n",
    "plt.plot(epochs, loss, 'bo', label='Training loss')\n",
    "plt.plot(epochs, val_loss, 'b', label='Validation loss')\n",
    "plt.title('Training vs Validation loss')\n",
    "plt.legend()\n",
    "plt.show()"
   ]
  },
  {
   "cell_type": "markdown",
   "metadata": {},
   "source": [
    "## Predicting Test data"
   ]
  },
  {
   "cell_type": "code",
   "execution_count": 26,
   "metadata": {},
   "outputs": [
    {
     "data": {
      "text/plain": [
       "(10000, 28, 28, 1)"
      ]
     },
     "execution_count": 26,
     "metadata": {},
     "output_type": "execute_result"
    }
   ],
   "source": [
    "pred = autoencoder.predict(test_data)\n",
    "pred.shape"
   ]
  },
  {
   "cell_type": "code",
   "execution_count": 27,
   "metadata": {},
   "outputs": [
    {
     "name": "stdout",
     "output_type": "stream",
     "text": [
      "Test Images\n"
     ]
    },
    {
     "data": {
      "image/png": "[encoded data removed]",
      "text/plain": [
       "<Figure size 1440x288 with 10 Axes>"
      ]
     },
     "metadata": {},
     "output_type": "display_data"
    },
    {
     "name": "stdout",
     "output_type": "stream",
     "text": [
      "Reconstruction of Test Images\n"
     ]
    },
    {
     "data": {
      "image/png": "[encoded data removed]",
      "text/plain": [
       "<Figure size 1440x288 with 10 Axes>"
      ]
     },
     "metadata": {},
     "output_type": "display_data"
    }
   ],
   "source": [
    "plt.figure(figsize=(20, 4))\n",
    "print(\"Test Images\")\n",
    "for i in range(10):\n",
    "    plt.subplot(2, 10, i+1)\n",
    "    plt.imshow(test_data[i, ..., 0], cmap='gray')\n",
    "    curr_lbl = test_labels[i]\n",
    "    plt.title(\"(Label: \" + str(label_dict[curr_lbl]) + \")\")\n",
    "plt.show()    \n",
    "plt.figure(figsize=(20, 4))\n",
    "print(\"Reconstruction of Test Images\")\n",
    "for i in range(10):\n",
    "    plt.subplot(2, 10, i+1)\n",
    "    plt.imshow(pred[i, ..., 0], cmap='gray')  \n",
    "plt.show()"
   ]
  },
  {
   "cell_type": "code",
   "execution_count": null,
   "metadata": {},
   "outputs": [],
   "source": []
  }
 ],
 "metadata": {
  "kernelspec": {
   "display_name": "autoencoder",
   "language": "python",
   "name": "autoencoder"
  },
  "language_info": {
   "codemirror_mode": {
    "name": "ipython",
    "version": 3
   },
   "file_extension": ".py",
   "mimetype": "text/x-python",
   "name": "python",
   "nbconvert_exporter": "python",
   "pygments_lexer": "ipython3",
   "version": "3.6.5"
  }
 },
 "nbformat": 4,
 "nbformat_minor": 2
}
